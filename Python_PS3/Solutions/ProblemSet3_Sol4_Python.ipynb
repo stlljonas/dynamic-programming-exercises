{
 "cells": [
  {
   "cell_type": "markdown",
   "metadata": {},
   "source": [
    "# Dynamic Programming and Optimal Control\n",
    "## Problem Set 3, Problem 4"
   ]
  },
  {
   "cell_type": "markdown",
   "metadata": {},
   "source": [
    "ETH Zurich \\\n",
    "Institute for Dynamic Systems and Control \n",
    "\n",
    "Revision history \\\n",
    "[08.10.2013, Dario Brescianini]         First version (based on old programming exercises) \\\n",
    "[10.09.2022, MR]   Convert to Python"
   ]
  },
  {
   "cell_type": "markdown",
   "metadata": {},
   "source": [
    "**Python script that solves Problem 4 of Problem Set 3 by applying applying the Label Correcting method and A* algorithm.** \n",
    "\n",
    "**We used [NumPy](https://numpy.org/) and [SciPy](https://scipy.org/) packages, please install in your Python environment. You can install these packages using `pip install` or `conda install` command depending on your package manager. You can also find the installation guide in the package websites or documentations.**"
   ]
  },
  {
   "cell_type": "code",
   "execution_count": 2,
   "metadata": {
    "id": "VuSEa79-5fbu"
   },
   "outputs": [],
   "source": [
    "import scipy.io\n",
    "import numpy as np\n",
    "import time"
   ]
  },
  {
   "cell_type": "markdown",
   "metadata": {
    "id": "CptTfpqy62YC"
   },
   "source": [
    "### Label correcting algorithm function"
   ]
  },
  {
   "cell_type": "code",
   "execution_count": 3,
   "metadata": {
    "id": "VI1dXcKb68EZ"
   },
   "outputs": [],
   "source": [
    "def lca(A,startNode,terminalNode):\n",
    "    # Executes Label Correcting algorithm (Book Dynamic Programming and Optimal\n",
    "    # Control, Bertsekes, page 81) using the depth-first method.\n",
    "\n",
    "    # Input:\n",
    "    #   A               [NxN] matrix, where the element A(i,j) = a_ij is the cost\n",
    "    #                   to move from node i to j.\n",
    "    #   startNode       Start node of desired shortest path, scalar from 1 to N.\n",
    "    #   terminalNode    Terminal node of desired shortest path, scalar from 1\n",
    "    #                   to N.\n",
    "\n",
    "    # Output:\n",
    "    #   optCost         Cost of the shortest path(s), scalar:\n",
    "    #   optPath         Row vector containing the shortest path, e.g. \n",
    "    #                   optPath = [0 32 44 43 78 99].\n",
    "\n",
    "    N = len(A)  # Dimension of the problem: N = total number of nodes\n",
    "    d = np.ones(N)*np.inf # Vector holding label d for each node. d(i) represents\n",
    "                        # the shortest path found so far from start node to i.\n",
    "    d[startNode] = 0\n",
    "    parent = np.ones(N)*np.inf  # Vector containing the parent of the shortest path\n",
    "                              # found so far for each node.\n",
    "    parent[startNode] = -1\n",
    "    OPEN = np.zeros(N)  # List cotaining all the nodes that are currently \n",
    "                      # active in the sense that they are candidates for \n",
    "                      # further examination (candidates list).\n",
    "    pointerOPEN = 1     # Pointer which always points to the last element in OPEN.\n",
    "    OPEN[pointerOPEN] = startNode\n",
    "    UPPER = np.inf      # Label dt, representing the shortest path to the end found so far.\n",
    "\n",
    "    ## Check start and terminal node\n",
    "    # Make sure that the start and terminal node are valid.\n",
    "    if startNode == terminalNode:\n",
    "        optCost = 0\n",
    "        optPath = [startNode, terminalNode]\n",
    "        return optCost, optPath # Done.\n",
    "\n",
    "    if (startNode >= N or terminalNode >= N) or (startNode < 0 or terminalNode < 0):\n",
    "        optCost = np.inf\n",
    "        optPath = None\n",
    "        return optCost, optPath # Done.\n",
    "\n",
    "    # Execute algorithm\n",
    "    while 1:\n",
    "        # STEP 1: Remove a node i from OPEN and for each child j of i, execute STEP 2.\n",
    "        i = int(OPEN[pointerOPEN])\n",
    "        OPEN[pointerOPEN] = 0\n",
    "        pointerOPEN = pointerOPEN - 1\n",
    "\n",
    "        children = np.where(A[i,:] != np.inf) \n",
    "        children = children[0]\n",
    "        if i in children:\n",
    "            children = np.delete(children, np.where(children == i))\n",
    "\n",
    "        for j in children:\n",
    "            # STEP 2: If d_i + a_ij < min(d_j,UPPER), set d_j = d_i + a_ij and\n",
    "            # set i to be the parent of j.\n",
    "            if (d[i] + A[i,j] < min([d[j],UPPER])):\n",
    "                d[j] = d[i] + A[i,j]\n",
    "\n",
    "                parent[j] = int(i)\n",
    "\n",
    "                # In addition, if j != t, place j in OPEN if it is not already\n",
    "                # in OPEN, while if j == t, set UPPER to the new value d_i +\n",
    "                # a_it of d_t\n",
    "                if (j != terminalNode):\n",
    "                    if not(j in OPEN):\n",
    "                        pointerOPEN += 1\n",
    "                        OPEN[pointerOPEN] = j\n",
    "                else:\n",
    "                    UPPER = d[j]\n",
    "    \n",
    "        # STEP 3: If OPEN is empty, terminate; else go to STEP 1.\n",
    "        if (not pointerOPEN):\n",
    "            break\n",
    "    \n",
    "    # UPPER is equal to the cost of the shortest path.\n",
    "    optCost = UPPER\n",
    "\n",
    "    # Construct shortest path\n",
    "    # Start at terminal node and, for each node, take its parent node until we\n",
    "    # find ourselves at the start node.\n",
    "    optPath = [terminalNode]\n",
    "    while (optPath[-1] != startNode):\n",
    "        optPath.append(int(parent[int(optPath[-1])]))\n",
    "    optPath.reverse()  # Reverse path: startNode -> terminalNode\n",
    "    print(f\"optCost, optPath: {optCost, optPath}\")\n",
    "    return optCost, optPath"
   ]
  },
  {
   "cell_type": "markdown",
   "metadata": {
    "id": "6oNPL7mxv-Cs"
   },
   "source": [
    "### A* algorithm function"
   ]
  },
  {
   "cell_type": "code",
   "execution_count": 3,
   "metadata": {
    "id": "yDmkDXRgwDA3"
   },
   "outputs": [],
   "source": [
    "def astar(A,startNode,terminalNode):\n",
    "    # [optCost, optPath] = lca(A,startNode,terminalNode)\n",
    "\n",
    "    # Executes A* algorithm (Book Dynamic Programming and Optimal\n",
    "    # Control, Bertsekes, page 87) using the depth-first method.\n",
    "\n",
    "    # Input:\n",
    "    #   A               [NxN] matrix, where the element A(i,j) = a_ij is the cost\n",
    "    #                   to move from node i to j.\n",
    "    #   startNode       Start node of desired shortest path, scalar from 1 to N.\n",
    "    #   terminalNode    Terminal node of desired shortest path, scalar from 1\n",
    "    #                   to N.\n",
    "\n",
    "    # Output:\n",
    "    #   optCost         Cost of the shortest path(s), scalar:\n",
    "    #   optPath         Row vector containing the shortest path, e.g. \n",
    "    #                   optPath = [0 33 45 43 79 99].\n",
    "\n",
    "    # Initialization\n",
    "    N = len(A)          # Dimension of the problem: N = total number of nodes\n",
    "    d = np.ones(N)*np.inf # Vector holding label d for each node. d(i) represents\n",
    "                        # the shortest path found so far from start node to i.\n",
    "    d[startNode] = 0\n",
    "    parent = np.ones(N)*np.inf # Vector containing the parent of the shortest path\n",
    "                             # found so far for each node.\n",
    "    parent[startNode] = 0\n",
    "    OPEN = np.zeros(N)  # List cotaining all the nodes that are currently \n",
    "                      # active in the sense that they are candidates for \n",
    "                      # further examination (candidates list).\n",
    "    pointerOPEN = 1     # Pointer which always points to the last element in OPEN.\n",
    "    OPEN[pointerOPEN] = startNode\n",
    "    UPPER = np.inf      # Label dt, representing the shortest path to the end found so far.\n",
    "\n",
    "    # Check start and terminal node\n",
    "    # Make sure that the start and terminal node are valid.\n",
    "    if startNode == terminalNode:\n",
    "        optCost = 0\n",
    "        optPath = [startNode, terminalNode]\n",
    "        return optCost, optPath        # Done.\n",
    "\n",
    "    if (startNode >= N or terminalNode >= N) or (startNode < 0 or terminalNode < 0):\n",
    "        optCost = np.inf\n",
    "        optPath = None\n",
    "        return optCost, optPath        # Done.\n",
    "\n",
    "    # Execute algorithm\n",
    "    while 1:\n",
    "        # STEP 1: Remove a node i from OPEN and for each child j of i, execute STEP 2.\n",
    "        i = int(OPEN[pointerOPEN])\n",
    "        OPEN[pointerOPEN] = 0\n",
    "        pointerOPEN = pointerOPEN - 1\n",
    "\n",
    "        children = np.where(A[i,:] != np.inf) \n",
    "        children = children[0]\n",
    "        if i in children:\n",
    "            children = np.delete(children, np.where(children == i))\n",
    "      \n",
    "        for j in children:\n",
    "            # STEP 2: If d_i + a_ij < and  d_i + a_ij + h_j < UPPER, \n",
    "            # set d_j = d_i + a_ij and set i to be the parent of j.\n",
    "            if (d[i] + A[i,j] < d[j] and d[i] + A[i,j] + abs(j-terminalNode) < UPPER):\n",
    "                d[j] = d[i] + A[i,j]\n",
    "                parent[j] = i\n",
    "\n",
    "                # In addition, if j ~= t, place j in OPEN if it is not already\n",
    "                # in OPEN, while if j == t, set UPPER to the new value d_i +\n",
    "                # a_it of d_t\n",
    "                if (j != terminalNode):\n",
    "                    if not (j in OPEN):\n",
    "                        pointerOPEN += 1\n",
    "                        OPEN[pointerOPEN] = j\n",
    "                else:\n",
    "                    UPPER = d[j]\n",
    "      \n",
    "        #  STEP 3: If OPEN is empty, terminate; else go to STEP 1.\n",
    "        if (not pointerOPEN):\n",
    "            break\n",
    "  \n",
    "    # DONE.\n",
    "    # UPPER is equal to the cost of the shortest path.\n",
    "    optCost = UPPER\n",
    "    # Construct shortest path\n",
    "    # Start at terminal node and, for each node, take its parent node until we\n",
    "    # find ourselves at the start node.\n",
    "    optPath = [terminalNode]\n",
    "    while optPath[-1] != startNode:\n",
    "        optPath.append(int(parent[int(optPath[-1])]))\n",
    "    optPath.reverse()  # Reverse path: startNode -> terminalNode\n",
    "    return optCost, optPath\n"
   ]
  },
  {
   "cell_type": "markdown",
   "metadata": {
    "id": "ejc-B_xh6Df7"
   },
   "source": [
    "### Initialize variables"
   ]
  },
  {
   "cell_type": "code",
   "execution_count": 4,
   "metadata": {
    "colab": {
     "base_uri": "https://localhost:8080/",
     "height": 432
    },
    "id": "R_hjw-qb5oOY",
    "outputId": "2f4c96eb-3064-46db-dc30-66317bb2b7e8"
   },
   "outputs": [],
   "source": [
    "mat = scipy.io.loadmat('A.mat')    \n",
    "A = mat['A'] # Load matrix A that contains all the transition costs A(i,j) = a_ij to get from i to j.\n",
    "N = len(A)  # Dimension of the problem: N = total number of nodes"
   ]
  },
  {
   "cell_type": "markdown",
   "metadata": {
    "id": "akDLeQAL6AU2"
   },
   "source": [
    "### Define start and terminal node"
   ]
  },
  {
   "cell_type": "code",
   "execution_count": 5,
   "metadata": {
    "id": "h_ib3eTG6GLi"
   },
   "outputs": [],
   "source": [
    "# Default values:\n",
    "#   startNode = 0\n",
    "#   terminalNode = 99\n",
    "\n",
    "# Minimum path length (minimum total cost): 100\n",
    "# Path: 0 -> 2 -> 40 -> 50 -> 99\n",
    "\n",
    "startNode = 0      \n",
    "terminalNode = 99"
   ]
  },
  {
   "cell_type": "markdown",
   "metadata": {
    "id": "C37ElluN6a8L"
   },
   "source": [
    "### Label Correcting Algorithm\n",
    "Solve shortest path problem using the Label Correcting Algorithm"
   ]
  },
  {
   "cell_type": "code",
   "execution_count": 6,
   "metadata": {
    "id": "X2StavDX6Roz"
   },
   "outputs": [
    {
     "name": "stdout",
     "output_type": "stream",
     "text": [
      "optCost, optPath: (100.0, [0, 2, 40, 50, 99])\n"
     ]
    }
   ],
   "source": [
    "t = time.time()\n",
    "[optCost1, optPath1] = lca(A,startNode,terminalNode)   # Your implementation of the Label Correcting aglorithm.\n",
    "time1 = time.time() - t"
   ]
  },
  {
   "cell_type": "markdown",
   "metadata": {
    "id": "_pWipUqT6gpk"
   },
   "source": [
    "### A* Algorithm\n",
    "Solve shortest path problem using the A* Algorithm"
   ]
  },
  {
   "cell_type": "code",
   "execution_count": 7,
   "metadata": {
    "id": "LVTzOIxJ6g73"
   },
   "outputs": [],
   "source": [
    "t = time.time()\n",
    "[optCost2, optPath2] = astar(A,startNode,terminalNode) # Your implementation of the A* algorithm.\n",
    "time2 = time.time() - t"
   ]
  },
  {
   "cell_type": "markdown",
   "metadata": {
    "id": "NAJrBf2wH7il"
   },
   "source": [
    "### Print results"
   ]
  },
  {
   "cell_type": "code",
   "execution_count": 8,
   "metadata": {
    "id": "WILkTHMHICQ-"
   },
   "outputs": [
    {
     "name": "stdout",
     "output_type": "stream",
     "text": [
      "Results\n",
      "Problem with  100  nodes.\n",
      "Optimal path from node  0  to  99 :\n",
      "\u001b[1mLabel Correcting Algorithm\u001b[0m\n",
      "Execution time:  0.040026187896728516  s.\n",
      "Path:  [0, 2, 40, 50, 99]\n",
      "\u001b[1mA* Algorithm\u001b[0m\n",
      "Execution time:  0.006212949752807617 s  ( 0.1552221202987813  times the time for method 1).\n",
      "Minimum path length (minimum total cost):  100.0\n",
      "Path:  [0, 2, 40, 50, 99]\n"
     ]
    }
   ],
   "source": [
    "print('Results')\n",
    "print('Problem with ',N,' nodes.')\n",
    "print('Optimal path from node ',startNode,' to ',terminalNode,':')\n",
    "print('\\033[1mLabel Correcting Algorithm\\033[0m')\n",
    "print('Execution time: ',time1,' s.')\n",
    "print('Path: ', optPath1)\n",
    "print('\\033[1mA* Algorithm\\033[0m')\n",
    "print('Execution time: ',time2,'s  (',time2/time1,' times the time for method 1).')\n",
    "print('Minimum path length (minimum total cost): ',optCost2)\n",
    "print('Path: ', optPath2)"
   ]
  }
 ],
 "metadata": {
  "colab": {
   "collapsed_sections": [],
   "provenance": []
  },
  "kernelspec": {
   "display_name": "Python 3",
   "language": "python",
   "name": "python3"
  },
  "language_info": {
   "codemirror_mode": {
    "name": "ipython",
    "version": 3
   },
   "file_extension": ".py",
   "mimetype": "text/x-python",
   "name": "python",
   "nbconvert_exporter": "python",
   "pygments_lexer": "ipython3",
   "version": "3.10.6 (main, Nov 14 2022, 16:10:14) [GCC 11.3.0]"
  },
  "vscode": {
   "interpreter": {
    "hash": "31f2aee4e71d21fbe5cf8b01ff0e069b9275f58929596ceb00d14d90e3e16cd6"
   }
  }
 },
 "nbformat": 4,
 "nbformat_minor": 1
}
