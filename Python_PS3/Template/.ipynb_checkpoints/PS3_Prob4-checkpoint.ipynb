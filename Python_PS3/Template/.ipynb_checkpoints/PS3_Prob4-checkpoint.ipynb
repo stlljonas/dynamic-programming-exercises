{
 "cells": [
  {
   "cell_type": "markdown",
   "metadata": {},
   "source": [
    "# Dynamic Programming and Optimal Control\n",
    "## Problem Set 3, Problem 4"
   ]
  },
  {
   "cell_type": "markdown",
   "metadata": {},
   "source": [
    "ETH Zurich \\\n",
    "Institute for Dynamic Systems and Control \n",
    "\n",
    "Revision history \\\n",
    "[08.10.2013, Dario Brescianini]         First version (based on old programming exercises) \\\n",
    "[10.09.2022, MR]   Convert to Python"
   ]
  },
  {
   "cell_type": "markdown",
   "metadata": {},
   "source": [
    "**Python template that solves Problem 4 of Problem Set 3 by applying applying the Label Correcting method and A* algorithm.** \n",
    "\n",
    "**We used [NumPy](https://numpy.org/) and [SciPy](https://scipy.org/) packages, please install in your Python environment. You can install these packages using `pip install` or `conda install` command depending on your package manager. You can also find the installation guide in the package websites or documentations.**"
   ]
  },
  {
   "cell_type": "code",
   "execution_count": 1,
   "metadata": {
    "id": "VuSEa79-5fbu"
   },
   "outputs": [],
   "source": [
    "import scipy.io\n",
    "import numpy as np\n",
    "import time"
   ]
  },
  {
   "cell_type": "markdown",
   "metadata": {
    "id": "CptTfpqy62YC"
   },
   "source": [
    "### Label correcting algorithm function"
   ]
  },
  {
   "cell_type": "code",
   "execution_count": 2,
   "metadata": {
    "id": "VI1dXcKb68EZ"
   },
   "outputs": [],
   "source": [
    "def lca(A,startNode,terminalNode):\n",
    "    # Executes Label Correcting algorithm (Book Dynamic Programming and Optimal\n",
    "    # Control, Bertsekes, page 81) using the depth-first method.\n",
    "\n",
    "    # Input:\n",
    "    #   A               [NxN] matrix, where the element A(i,j) = a_ij is the cost\n",
    "    #                   to move from node i to j.\n",
    "    #   startNode       Start node of desired shortest path, scalar from 1 to N.\n",
    "    #   terminalNode    Terminal node of desired shortest path, scalar from 1\n",
    "    #                   to N.\n",
    "\n",
    "    # Output:\n",
    "    #   optCost         Cost of the shortest path(s), scalar:\n",
    "    #   optPath         Row vector containing the shortest path, e.g. \n",
    "    #                   optPath = [0 32 44 43 78 99].\n",
    "\n",
    "    #--------------------------------\n",
    "    # Your implementation comes here.\n",
    "    #--------------------------------\n",
    "    optCost = np.inf\n",
    "    optPath = [startNode, terminalNode]\n",
    "    return optCost, optPath"
   ]
  },
  {
   "cell_type": "markdown",
   "metadata": {
    "id": "6oNPL7mxv-Cs"
   },
   "source": [
    "### A* algorithm function"
   ]
  },
  {
   "cell_type": "code",
   "execution_count": 3,
   "metadata": {
    "id": "yDmkDXRgwDA3"
   },
   "outputs": [],
   "source": [
    "def astar(A,startNode,terminalNode):\n",
    "    # [optCost, optPath] = lca(A,startNode,terminalNode)\n",
    "\n",
    "    # Executes A* algorithm (Book Dynamic Programming and Optimal\n",
    "    # Control, Bertsekes, page 87) using the depth-first method.\n",
    "\n",
    "    # Input:\n",
    "    #   A               [NxN] matrix, where the element A(i,j) = a_ij is the cost\n",
    "    #                   to move from node i to j.\n",
    "    #   startNode       Start node of desired shortest path, scalar from 1 to N.\n",
    "    #   terminalNode    Terminal node of desired shortest path, scalar from 1\n",
    "    #                   to N.\n",
    "\n",
    "    # Output:\n",
    "    #   optCost         Cost of the shortest path(s), scalar:\n",
    "    #   optPath         Row vector containing the shortest path, e.g. \n",
    "    #                   optPath = [0 33 45 43 79 99].\n",
    "\n",
    "    #--------------------------------\n",
    "    # Your implementation comes here.\n",
    "    #--------------------------------\n",
    "    optCost = np.inf\n",
    "    optPath = [startNode, terminalNode]\n",
    "\n",
    "    return optCost, optPath\n"
   ]
  },
  {
   "cell_type": "markdown",
   "metadata": {
    "id": "ejc-B_xh6Df7"
   },
   "source": [
    "### Initialize variables"
   ]
  },
  {
   "cell_type": "code",
   "execution_count": 4,
   "metadata": {
    "id": "R_hjw-qb5oOY"
   },
   "outputs": [],
   "source": [
    "mat = scipy.io.loadmat('A.mat')    \n",
    "A = mat['A'] # Load matrix A that contains all the transition costs A(i,j) = a_ij to get from i to j.\n",
    "N = len(A)  # Dimension of the problem: N = total number of nodes"
   ]
  },
  {
   "cell_type": "markdown",
   "metadata": {
    "id": "akDLeQAL6AU2"
   },
   "source": [
    "### Define start and terminal node"
   ]
  },
  {
   "cell_type": "code",
   "execution_count": 5,
   "metadata": {
    "id": "h_ib3eTG6GLi"
   },
   "outputs": [],
   "source": [
    "# Default values:\n",
    "#   startNode = 0\n",
    "#   terminalNode = 99\n",
    "\n",
    "# Minimum path length (minimum total cost): 100\n",
    "# Path: 0 -> 2 -> 40 -> 50 -> 99\n",
    "\n",
    "startNode = 0      \n",
    "terminalNode = 99"
   ]
  },
  {
   "cell_type": "markdown",
   "metadata": {
    "id": "C37ElluN6a8L"
   },
   "source": [
    "### Label Correcting Algorithm\n",
    "Solve shortest path problem using the Label Correcting Algorithm"
   ]
  },
  {
   "cell_type": "code",
   "execution_count": 6,
   "metadata": {
    "id": "X2StavDX6Roz"
   },
   "outputs": [],
   "source": [
    "t = time.time()\n",
    "[optCost1, optPath1] = lca(A,startNode,terminalNode)   # Your implementation of the Label Correcting aglorithm.\n",
    "time1 = time.time() - t"
   ]
  },
  {
   "cell_type": "markdown",
   "metadata": {
    "id": "_pWipUqT6gpk"
   },
   "source": [
    "### A* Algorithm\n",
    "Solve shortest path problem using the A* Algorithm"
   ]
  },
  {
   "cell_type": "code",
   "execution_count": 7,
   "metadata": {
    "id": "LVTzOIxJ6g73"
   },
   "outputs": [],
   "source": [
    "t = time.time()\n",
    "[optCost2, optPath2] = astar(A,startNode,terminalNode) # Your implementation of the A* algorithm.\n",
    "time2 = time.time() - t"
   ]
  },
  {
   "cell_type": "markdown",
   "metadata": {
    "id": "NAJrBf2wH7il"
   },
   "source": [
    "### Print results"
   ]
  },
  {
   "cell_type": "code",
   "execution_count": 8,
   "metadata": {
    "colab": {
     "base_uri": "https://localhost:8080/"
    },
    "id": "WILkTHMHICQ-",
    "outputId": "aaaa425c-a2dc-4b33-a4aa-db446bbdaa9e"
   },
   "outputs": [
    {
     "name": "stdout",
     "output_type": "stream",
     "text": [
      "Results\n",
      "Problem with  100  nodes.\n",
      "Optimal path from node  0  to  99 :\n",
      "\u001b[1mLabel Correcting Algorithm\u001b[0m\n",
      "Execution time:  4.8160552978515625e-05  s.\n",
      "Path:  [0, 99]\n",
      "\u001b[1mA* Algorithm\u001b[0m\n",
      "Execution time:  4.076957702636719e-05 s  ( 0.8465346534653465  times the time for method 1).\n",
      "Minimum path length (minimum total cost):  inf\n",
      "Path:  [0, 99]\n"
     ]
    }
   ],
   "source": [
    "print('Results')\n",
    "print('Problem with ',N,' nodes.')\n",
    "print('Optimal path from node ',startNode,' to ',terminalNode,':')\n",
    "print('\\033[1mLabel Correcting Algorithm\\033[0m')\n",
    "print('Execution time: ',time1,' s.')\n",
    "print('Path: ', optPath1)\n",
    "print('\\033[1mA* Algorithm\\033[0m')\n",
    "print('Execution time: ',time2,'s  (',time2/time1,' times the time for method 1).')\n",
    "print('Minimum path length (minimum total cost): ',optCost2)\n",
    "print('Path: ', optPath2)"
   ]
  }
 ],
 "metadata": {
  "colab": {
   "collapsed_sections": [],
   "provenance": []
  },
  "kernelspec": {
   "display_name": "Python 3 (ipykernel)",
   "language": "python",
   "name": "python3"
  },
  "language_info": {
   "codemirror_mode": {
    "name": "ipython",
    "version": 3
   },
   "file_extension": ".py",
   "mimetype": "text/x-python",
   "name": "python",
   "nbconvert_exporter": "python",
   "pygments_lexer": "ipython3",
   "version": "3.9.7"
  }
 },
 "nbformat": 4,
 "nbformat_minor": 1
}
